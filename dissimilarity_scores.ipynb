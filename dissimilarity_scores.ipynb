{
 "cells": [
  {
   "cell_type": "code",
   "execution_count": 1,
   "metadata": {},
   "outputs": [],
   "source": [
    "import jenkspy\n",
    "import pandas as pd\n",
    "from utils import PostGresLoad\n",
    "\n",
    "%load_ext autoreload\n",
    "%autoreload 2"
   ]
  },
  {
   "cell_type": "code",
   "execution_count": 2,
   "metadata": {},
   "outputs": [],
   "source": [
    "pg = PostGresLoad()"
   ]
  },
  {
   "cell_type": "code",
   "execution_count": 3,
   "metadata": {},
   "outputs": [],
   "source": [
    "df_11_12 = pg.df_from_rds(\"\"\"select * from dissimilarity_index where \"YEAR\" = '2011-12';\"\"\")\n",
    "df_13_14 = pg.df_from_rds(\"\"\"select * from dissimilarity_index where \"YEAR\" = '2013-14';\"\"\")\n",
    "df_15_16 = pg.df_from_rds(\"\"\"select * from dissimilarity_index where \"YEAR\" = '2015-16';\"\"\")\n",
    "df_17_18 = pg.df_from_rds(\"\"\"select * from dissimilarity_index where \"YEAR\" = '2017-18';\"\"\")"
   ]
  },
  {
   "cell_type": "code",
   "execution_count": 7,
   "metadata": {},
   "outputs": [],
   "source": [
    "def classify(x, l1, l2):\n",
    "    if x is None:\n",
    "        return x\n",
    "    if x <= l1:\n",
    "        return 'low'\n",
    "    if x <= l2:\n",
    "        return 'med'\n",
    "    if x < 1.0:\n",
    "        return 'high'"
   ]
  },
  {
   "cell_type": "code",
   "execution_count": 8,
   "metadata": {},
   "outputs": [],
   "source": [
    "def categorize_dscore(df_column):\n",
    "    list_of_values = df_column\n",
    "    breaks = jenkspy.jenks_breaks(list_of_values, nb_class=6)\n",
    "    lim1 = breaks[2]\n",
    "    lim2 = breaks[4]\n",
    "    return df_column.apply(lambda x: classify(x, lim1, lim2))"
   ]
  },
  {
   "cell_type": "code",
   "execution_count": 9,
   "metadata": {},
   "outputs": [],
   "source": [
    "frames = [df_11_12, df_13_14, df_15_16, df_17_18]"
   ]
  },
  {
   "cell_type": "code",
   "execution_count": 10,
   "metadata": {},
   "outputs": [
    {
     "name": "stderr",
     "output_type": "stream",
     "text": [
      "/Users/cave/miniconda3/lib/python3.7/site-packages/jenkspy/core.py:64: UserWarning: Invalid values encountered (NaN or Inf) were ignored\n",
      "  warnings.warn('Invalid values encountered (NaN or Inf) were ignored')\n"
     ]
    }
   ],
   "source": [
    "for df in frames:\n",
    "    for col in df.columns:\n",
    "        if 'd_' in col:\n",
    "            df[f'classified_{col}'] = categorize_dscore(df[col])\n"
   ]
  },
  {
   "cell_type": "code",
   "execution_count": 17,
   "metadata": {},
   "outputs": [
    {
     "data": {
      "text/plain": [
       "(2934, 14)"
      ]
     },
     "execution_count": 17,
     "metadata": {},
     "output_type": "execute_result"
    }
   ],
   "source": [
    "df_17_18.shape"
   ]
  },
  {
   "cell_type": "code",
   "execution_count": 18,
   "metadata": {},
   "outputs": [
    {
     "name": "stdout",
     "output_type": "stream",
     "text": [
      "(2455, 14)\n"
     ]
    }
   ],
   "source": [
    "print(df_15_16.shape)"
   ]
  },
  {
   "cell_type": "code",
   "execution_count": 19,
   "metadata": {},
   "outputs": [
    {
     "name": "stdout",
     "output_type": "stream",
     "text": [
      "(2448, 14)\n"
     ]
    }
   ],
   "source": [
    "print(df_13_14.shape)"
   ]
  },
  {
   "cell_type": "code",
   "execution_count": 20,
   "metadata": {},
   "outputs": [],
   "source": [
    "df_final = pd.concat([df_11_12, df_13_14, df_15_16, df_17_18])\n",
    "df_final.to_csv('/Users/cave/Desktop/pleiades_archive/discriminology/output/classified_scores.csv')"
   ]
  },
  {
   "cell_type": "code",
   "execution_count": 16,
   "metadata": {},
   "outputs": [
    {
     "data": {
      "text/plain": [
       "Index(['LEAID', 'YEAR', 'd_wh_bl', 'd_wh_as', 'd_wh_am', 'd_wh_tr', 'd_wh_hp',\n",
       "       'd_wh_hi', 'classified_d_wh_bl', 'classified_d_wh_as',\n",
       "       'classified_d_wh_am', 'classified_d_wh_tr', 'classified_d_wh_hp',\n",
       "       'classified_d_wh_hi'],\n",
       "      dtype='object')"
      ]
     },
     "execution_count": 16,
     "metadata": {},
     "output_type": "execute_result"
    }
   ],
   "source": [
    "df_final.columns"
   ]
  }
 ],
 "metadata": {
  "kernelspec": {
   "display_name": "Python 3",
   "language": "python",
   "name": "python3"
  },
  "language_info": {
   "codemirror_mode": {
    "name": "ipython",
    "version": 3
   },
   "file_extension": ".py",
   "mimetype": "text/x-python",
   "name": "python",
   "nbconvert_exporter": "python",
   "pygments_lexer": "ipython3",
   "version": "3.7.2"
  }
 },
 "nbformat": 4,
 "nbformat_minor": 2
}
