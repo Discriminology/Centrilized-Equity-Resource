{
 "cells": [
  {
   "cell_type": "code",
   "execution_count": null,
   "metadata": {},
   "outputs": [],
   "source": [
    "import pandas as pd\n",
    "from utils import aggregate_data, join_col_descriptions, categorize_school_level, PostGresLoad\n",
    "\n",
    "%load_ext autoreload\n",
    "%autoreload 2"
   ]
  },
  {
   "cell_type": "code",
   "execution_count": null,
   "metadata": {},
   "outputs": [],
   "source": [
    "cd ~/Desktop/pleiades_archive/discriminology/"
   ]
  },
  {
   "cell_type": "code",
   "execution_count": null,
   "metadata": {},
   "outputs": [],
   "source": [
    "pg = PostGresLoad()\n",
    "newark = pd.read_csv('newark_schools.csv')\n",
    "pg.df_to_rds(newark, 'newark')"
   ]
  },
  {
   "cell_type": "code",
   "execution_count": null,
   "metadata": {},
   "outputs": [],
   "source": [
    "prev_year_data = pd.read_csv('/Users/cave/Desktop/pleiades_archive/discriminology/output/db_upload_schools.csv', index_col=0).rename(columns={'index': 'COMBOKEY'})\n",
    "prev_year_data.head()"
   ]
  },
  {
   "cell_type": "code",
   "execution_count": null,
   "metadata": {},
   "outputs": [],
   "source": [
    "prev_year_data['YEAR'].value_counts()"
   ]
  },
  {
   "cell_type": "markdown",
   "metadata": {},
   "source": [
    "Read field mapping and data types from [dictionary](https://docs.google.com/spreadsheets/d/1mO7Tnbn9hwHcJ0hj8gBBp5MhHGDqmgGw8X3-b-s6SKs/edit#gid=0)"
   ]
  },
  {
   "cell_type": "code",
   "execution_count": null,
   "metadata": {},
   "outputs": [],
   "source": [
    "field_mappings = pd.read_excel('/Users/cave/Desktop/pleiades_archive/discriminology/field_mapping.xlsx')"
   ]
  },
  {
   "cell_type": "code",
   "execution_count": null,
   "metadata": {},
   "outputs": [],
   "source": [
    "field_mappings.head()"
   ]
  },
  {
   "cell_type": "code",
   "execution_count": null,
   "metadata": {},
   "outputs": [],
   "source": [
    "field_mappings['col_superset'] = field_mappings['15_16_field'].combine_first(field_mappings['11_12_field'])\n",
    "type_map = pd.Series(field_mappings.type.values, index=field_mappings.col_superset).to_dict()\n",
    "numeric_type_map = {k:v for k,v in type_map.items() if v !='str'}"
   ]
  },
  {
   "cell_type": "code",
   "execution_count": null,
   "metadata": {},
   "outputs": [],
   "source": [
    "newark = pd.read_csv('/Users/cave/Desktop/pleiades_archive/discriminology/newark_schools.csv', dtype={'COMBOKEY':str})\n",
    "newark.head()"
   ]
  },
  {
   "cell_type": "markdown",
   "metadata": {},
   "source": [
    "### Extract methodology fields for each year"
   ]
  },
  {
   "cell_type": "code",
   "execution_count": null,
   "metadata": {},
   "outputs": [],
   "source": [
    "fields_1112 = field_mappings['11_12_field'].dropna().values\n",
    "fields_1314 = field_mappings['13_14_field'].dropna().values\n",
    "fields_1516 = field_mappings['15_16_field'].dropna().values\n",
    "fields_1718 = field_mappings['17_18_field'].dropna().values"
   ]
  },
  {
   "cell_type": "code",
   "execution_count": null,
   "metadata": {},
   "outputs": [],
   "source": [
    "cd ~/Desktop/pleiades_archive/discriminology/2017_18/Data/SCH/CRDC/CSV"
   ]
  },
  {
   "cell_type": "markdown",
   "metadata": {},
   "source": [
    "### Loop through files in 2017-18 OCR dump and pull out variables of interest."
   ]
  },
  {
   "cell_type": "code",
   "execution_count": null,
   "metadata": {},
   "outputs": [],
   "source": [
    "df_17_18 = pd.read_csv('Enrollment.csv',  dtype={'COMBOKEY':str})\n",
    "files_17_18 = ['Gifted and Talented.csv', 'Suspensions.csv', 'Advanced Placement.csv', 'School Characteristics.csv',\n",
    "              'Referrals and Arrests.csv', 'Single-sex Classes.csv', 'School Support.csv'\n",
    "              ]\n",
    "\n",
    "join_keys = ['LEA_NAME', 'SCH_NAME', 'SCHID', 'LEAID', 'JJ', 'LEA_STATE_NAME']\n",
    "for file in files_17_18:\n",
    "    temp = pd.read_csv(file, dtype={'COMBOKEY':str})\n",
    "    col_subset = [c for c in temp.columns if c not in join_keys]\n",
    "    df_17_18 = pd.merge(df_17_18, temp[col_subset], on='COMBOKEY')\n"
   ]
  },
  {
   "cell_type": "code",
   "execution_count": null,
   "metadata": {},
   "outputs": [],
   "source": [
    "df_17_18 = df_17_18[fields_1516]\n",
    "df_17_18.head()"
   ]
  },
  {
   "cell_type": "code",
   "execution_count": null,
   "metadata": {},
   "outputs": [],
   "source": [
    "df_17_18.shape"
   ]
  },
  {
   "cell_type": "markdown",
   "metadata": {},
   "source": [
    "### Check how many Newark schools are missing from the 17-18 data"
   ]
  },
  {
   "cell_type": "code",
   "execution_count": null,
   "metadata": {},
   "outputs": [],
   "source": [
    "len(newark)\n",
    "merged = pd.merge(newark, df_17_18, on='COMBOKEY', how='left')\n",
    "merged['LEAID'].isna().sum()"
   ]
  },
  {
   "cell_type": "markdown",
   "metadata": {},
   "source": [
    "Generate SQL create statement for school table in AWS"
   ]
  },
  {
   "cell_type": "code",
   "execution_count": null,
   "metadata": {},
   "outputs": [],
   "source": [
    "create_school_table = [print(f'\"{k}\" double precision,') for k,v in numeric_type_map.items()]\n",
    "create_school_table"
   ]
  },
  {
   "cell_type": "code",
   "execution_count": null,
   "metadata": {},
   "outputs": [],
   "source": [
    "universal_types = {'SCH_ZIP ': str\n",
    "                   ,'SCHID': str\n",
    "                   ,'COMBOKEY': str\n",
    "                   ,'LEAID': str\n",
    "                  }"
   ]
  },
  {
   "cell_type": "markdown",
   "metadata": {},
   "source": [
    "### Clean up data types"
   ]
  },
  {
   "cell_type": "code",
   "execution_count": null,
   "metadata": {},
   "outputs": [],
   "source": [
    "df_17_18['LEAID'] = df_17_18['LEAID'].astype(str).str.zfill(7)\n",
    "df_17_18['SCHID'] = df_17_18['SCHID'].astype(str).str.zfill(5)\n",
    "df_17_18['COMBOKEY'] = df_17_18['LEAID'] + df_17_18['SCHID']"
   ]
  },
  {
   "cell_type": "code",
   "execution_count": null,
   "metadata": {},
   "outputs": [],
   "source": [
    "df_17_18.head()"
   ]
  },
  {
   "cell_type": "markdown",
   "metadata": {},
   "source": [
    "### Replace negative values with zeroes."
   ]
  },
  {
   "cell_type": "code",
   "execution_count": null,
   "metadata": {},
   "outputs": [],
   "source": [
    "num = df_17_18._get_numeric_data()\n",
    "num[num < 0] = 0\n",
    "df_17_18 = df_17_18.replace('-5', 'No').replace('-9', 'No')\n",
    "df_1718_final = df_17_18\n",
    "df_1718_final['YEAR'] = '2017-18'\n",
    "df_1718_final.head()"
   ]
  },
  {
   "cell_type": "code",
   "execution_count": null,
   "metadata": {},
   "outputs": [],
   "source": [
    "df_1718_final = df_1718_final.astype(numeric_type_map)\n",
    "df_1718_final.head()"
   ]
  },
  {
   "cell_type": "markdown",
   "metadata": {},
   "source": [
    "### Concatenate 2017-18 data to previous years"
   ]
  },
  {
   "cell_type": "code",
   "execution_count": null,
   "metadata": {},
   "outputs": [],
   "source": [
    "all_years = pd.concat([df_1718_final, prev_year_data], axis=0)"
   ]
  },
  {
   "cell_type": "code",
   "execution_count": null,
   "metadata": {},
   "outputs": [],
   "source": [
    "all_years['YEAR'].value_counts()"
   ]
  },
  {
   "cell_type": "code",
   "execution_count": null,
   "metadata": {},
   "outputs": [],
   "source": [
    "all_years['YEAR'].value_counts()"
   ]
  },
  {
   "cell_type": "code",
   "execution_count": null,
   "metadata": {},
   "outputs": [],
   "source": [
    "full_table = all_years"
   ]
  },
  {
   "cell_type": "code",
   "execution_count": null,
   "metadata": {},
   "outputs": [],
   "source": [
    "full_table = full_table.astype(numeric_type_map)\n",
    "# full_table.sort_index(inplace=True)\n",
    "full_table.reset_index(inplace=True)\n",
    "full_table['SCHID'] = full_table['SCHID'].astype(str).str.zfill(5)"
   ]
  },
  {
   "cell_type": "markdown",
   "metadata": {},
   "source": [
    "Impute missing district state names from other years "
   ]
  },
  {
   "cell_type": "code",
   "execution_count": null,
   "metadata": {},
   "outputs": [],
   "source": [
    "# Fill in LEA STATE with non-null values in LEAID group\n",
    "full_table['LEA_STATE'] = full_table.groupby(['LEAID'])['LEA_STATE'].fillna(method='ffill').fillna(method='bfill')\n",
    "full_table['LEA_STATE_NAME'] = full_table.groupby(['LEAID'])['LEA_STATE_NAME'].fillna(method='ffill').fillna(method='bfill')\n",
    "full_table['LEA_NAME'] = full_table.groupby(['LEAID'])['LEA_NAME'].fillna(method='ffill').fillna(method='bfill')"
   ]
  },
  {
   "cell_type": "code",
   "execution_count": null,
   "metadata": {},
   "outputs": [],
   "source": [
    "full_table['SCH_NAME'] = full_table.groupby(['SCHID'])['SCH_NAME'].fillna(method='ffill').fillna(method='bfill')\n",
    "full_table['SCH_ZIP '] = full_table.groupby(['SCHID'])['SCH_ZIP '].fillna(method='ffill').fillna(method='bfill')\n",
    "full_table['SCH_CITY'] = full_table.groupby(['SCHID'])['SCH_CITY'].fillna(method='ffill').fillna(method='bfill')\n",
    "full_table['SCH_ADDRESS'] = full_table.groupby(['SCHID'])['SCH_ADDRESS'].fillna(method='ffill').fillna(method='bfill')"
   ]
  },
  {
   "cell_type": "markdown",
   "metadata": {},
   "source": [
    "Capitalize the first letter in each district name, school name, address."
   ]
  },
  {
   "cell_type": "code",
   "execution_count": null,
   "metadata": {},
   "outputs": [],
   "source": [
    "full_table['LEA_NAME'] = full_table['LEA_NAME'].str.title()\n",
    "full_table['SCH_NAME'] = full_table['SCH_NAME'].str.title()\n",
    "full_table['SCH_ADDRESS'] = full_table['SCH_ADDRESS'].str.title()\n",
    "full_table['SCH_CITY'] = full_table['SCH_CITY'].str.title()"
   ]
  },
  {
   "cell_type": "markdown",
   "metadata": {},
   "source": [
    "Categorize each school as elementary, middle, high, or other using grade enrollment data."
   ]
  },
  {
   "cell_type": "code",
   "execution_count": null,
   "metadata": {},
   "outputs": [],
   "source": [
    "full_table['SCH_LEVEL'] = full_table.apply(lambda row: categorize_school_level(row['SCH_GRADE_KG'], row['SCH_GRADE_G01'],\n",
    "                            row['SCH_GRADE_G02'], row['SCH_GRADE_G03'], row['SCH_GRADE_G04'], row['SCH_GRADE_G05'],\n",
    "                            row['SCH_GRADE_G06'], row['SCH_GRADE_G07'], row['SCH_GRADE_G08'], row['SCH_GRADE_G09'],\n",
    "                            row['SCH_GRADE_G10'], row['SCH_GRADE_G11'], row['SCH_GRADE_G12']), axis=1\n",
    "                            )"
   ]
  },
  {
   "cell_type": "code",
   "execution_count": null,
   "metadata": {},
   "outputs": [],
   "source": [
    "full_table.to_csv('/Users/cave/Desktop/pleiades_archive/discriminology/output/db_upload_schools.csv', index=False)"
   ]
  },
  {
   "cell_type": "code",
   "execution_count": null,
   "metadata": {},
   "outputs": [],
   "source": [
    "full_table = pd.read_csv"
   ]
  },
  {
   "cell_type": "code",
   "execution_count": null,
   "metadata": {},
   "outputs": [],
   "source": [
    "full_table.shape"
   ]
  },
  {
   "cell_type": "code",
   "execution_count": null,
   "metadata": {},
   "outputs": [],
   "source": [
    "# full_table.set_index('COMBOKEY', inplace=True)"
   ]
  },
  {
   "cell_type": "code",
   "execution_count": null,
   "metadata": {},
   "outputs": [],
   "source": [
    "prev_year_data.shape"
   ]
  },
  {
   "cell_type": "markdown",
   "metadata": {},
   "source": [
    "### Group by districts and sum over fields"
   ]
  },
  {
   "cell_type": "code",
   "execution_count": null,
   "metadata": {},
   "outputs": [],
   "source": [
    "district = full_table.copy()"
   ]
  },
  {
   "cell_type": "code",
   "execution_count": null,
   "metadata": {},
   "outputs": [],
   "source": [
    "# district.columns = district.columns.droplevel(1)\n",
    "district = district.astype(numeric_type_map)"
   ]
  },
  {
   "cell_type": "code",
   "execution_count": null,
   "metadata": {},
   "outputs": [],
   "source": [
    "district['TOTAL_SCHOOLS'] = 1.0\n",
    "district['TOTAL_ENROLLMENT'] = district['TOT_ENR_F'] + district['TOT_ENR_M']"
   ]
  },
  {
   "cell_type": "markdown",
   "metadata": {},
   "source": [
    "Custom aggregation dictionary - for string values, take the first non-null value.  For numeric fields, take the sum"
   ]
  },
  {
   "cell_type": "code",
   "execution_count": null,
   "metadata": {},
   "outputs": [],
   "source": [
    "agg_cols = ['LEA_NAME', 'LEA_STATE_NAME', 'TOTAL_SCHOOLS', 'TOTAL_ENROLLMENT',\n",
    "'SCH_DISCWODIS_MULTOOS_HI_M',\n",
    " 'SCH_DISCWDIS_ARR_IDEA_AM_M',\n",
    " 'SCH_GTENR_IDEA_F',\n",
    " 'SCH_DISCWODIS_SINGOOS_HP_F',\n",
    " 'SCH_FTECOUNSELORS',\n",
    " 'SCH_DISCWODIS_ARR_WH_M',\n",
    " 'TOT_DISCWDIS_ARR_IDEA_M',\n",
    " 'SCH_GTENR_TR_M',\n",
    " 'SCH_DISCWODIS_MULTOOS_AS_M',\n",
    " 'SCH_APENR_AM_F',\n",
    " 'SCH_DISCWODIS_REF_BL_F',\n",
    " 'SCH_DISCWODIS_ARR_AM_F',\n",
    " 'TOT_DISCWODIS_REF_M',\n",
    " 'SCH_IDEAENR_HI_M',\n",
    " 'SCH_FTESERVICES_PSY',\n",
    " 'SCH_DISCWDIS_MULTOOS_IDEA_BL_F',\n",
    " 'TOT_APENR_F',\n",
    " 'SCH_DISCWODIS_ARR_WH_F',\n",
    " 'SCH_IDEAENR_HP_M',\n",
    " 'SCH_DISCWDIS_MULTOOS_IDEA_TR_F',\n",
    " 'SCH_DISCWDIS_REF_IDEA_WH_F',\n",
    " 'SCH_DISCWODIS_MULTOOS_WH_M',\n",
    " 'SCH_FTESECURITY_GUA',\n",
    " 'SCH_DISCWODIS_SINGOOS_TR_M',\n",
    " 'SCH_DISCWDIS_REF_IDEA_WH_M',\n",
    " 'SCH_DISCWODIS_ARR_TR_M',\n",
    " 'SCH_DISCWDIS_ARR_IDEA_BL_F',\n",
    " 'SCH_DISCWDIS_ARR_IDEA_TR_M',\n",
    " 'SCH_DISCWDIS_MULTOOS_IDEA_BL_M',\n",
    " 'SCH_DISCWODIS_ARR_AM_M',\n",
    " 'SCH_DISCWDIS_ARR_IDEA_AS_M',\n",
    " 'SCH_DISCWDIS_REF_IDEA_BL_M',\n",
    " 'SCH_GTENR_IDEA_M',\n",
    " 'TOT_DISCWODIS_MULTOOS_M',\n",
    " 'SCH_DISCWDIS_SINGOOS_IDEA_HI_F',\n",
    " 'TOT_DISCWODIS_SINGOOS_F',\n",
    " 'SCH_DISCWDIS_MULTOOS_IDEA_AM_F',\n",
    " 'SCH_DISCWODIS_MULTOOS_TR_F',\n",
    " 'TOT_DISCWODIS_SINGOOS_M',\n",
    " 'SCH_ENR_HI_M',\n",
    " 'SCH_APENR_HI_F',\n",
    " 'SCH_IDEAENR_HI_F',\n",
    " 'SCH_DISCWDIS_REF_IDEA_BL_F',\n",
    " 'SCH_DISCWODIS_MULTOOS_AM_F',\n",
    " 'TOT_DISCWDIS_MULTOOS_IDEA_M',\n",
    " 'SCH_DISCWDIS_REF_IDEA_AS_M',\n",
    " 'SCH_GTENR_HI_M',\n",
    " 'SCH_DISCWODIS_REF_HI_M',\n",
    " 'SCH_FTESERVICES_SOC',\n",
    " 'SCH_DISCWDIS_SINGOOS_IDEA_AM_F',\n",
    " 'SCH_DISCWODIS_REF_TR_M',\n",
    " 'SCH_DISCWDIS_MULTOOS_IDEA_HP_M',\n",
    " 'SCH_DISCWDIS_SINGOOS_IDEA_BL_M',\n",
    " 'TOT_ENR_F',\n",
    " 'SCH_GTENR_AS_F',\n",
    " 'SCH_GTENR_HP_F',\n",
    " 'SCH_ENR_BL_F',\n",
    " 'SCH_DISCWODIS_SINGOOS_BL_M',\n",
    " 'SCH_DISCWODIS_SINGOOS_TR_F',\n",
    " 'SCH_DISCWDIS_MULTOOS_IDEA_WH_F',\n",
    " 'SCH_DISCWDIS_MULTOOS_IDEA_AS_F',\n",
    " 'SCH_DISCWODIS_SINGOOS_HP_M',\n",
    " 'SCH_GTENR_WH_M',\n",
    " 'SCH_DISCWODIS_REF_AM_F',\n",
    " 'SCH_DISCWODIS_SINGOOS_AS_F',\n",
    " 'SCH_DISCWDIS_MULTOOS_IDEA_HI_F',\n",
    " 'SCH_DISCWDIS_SINGOOS_IDEA_HI_M',\n",
    " 'SCH_DISCWODIS_SINGOOS_HI_M',\n",
    " 'SCH_APENR_TR_M',\n",
    " 'SCH_DISCWODIS_REF_HI_F',\n",
    " 'SCH_DISCWODIS_ARR_BL_F',\n",
    " 'SCH_ENR_TR_F',\n",
    " 'SCH_DISCWODIS_SINGOOS_BL_F',\n",
    " 'SCH_DISCWODIS_ARR_HP_F',\n",
    " 'SCH_APENR_AS_M',\n",
    " 'SCH_GTENR_LEP_M',\n",
    " 'SCH_DISCWDIS_REF_IDEA_HI_F',\n",
    " 'SCH_DISCWODIS_MULTOOS_BL_F',\n",
    " 'SCH_DISCWODIS_REF_HP_M',\n",
    " 'SCH_APENR_BL_F',\n",
    " 'SCH_IDEAENR_AS_M',\n",
    " 'TOT_DISCWODIS_ARR_M',\n",
    " 'SCH_DISCWODIS_SINGOOS_HI_F',\n",
    " 'SCH_DISCWDIS_SINGOOS_IDEA_WH_F',\n",
    " 'SCH_IDEAENR_AM_F',\n",
    " 'TOT_APENR_M',\n",
    " 'SCH_DISCWDIS_SINGOOS_IDEA_TR_M',\n",
    " 'SCH_DISCWODIS_REF_TR_F',\n",
    " 'SCH_DISCWDIS_REF_IDEA_AM_M',\n",
    " 'SCH_GTENR_BL_F',\n",
    " 'SCH_IDEAENR_TR_F',\n",
    " 'SCH_DISCWDIS_MULTOOS_IDEA_AM_M',\n",
    " 'SCH_GTENR_HI_F',\n",
    " 'SCH_DISCWODIS_ARR_AS_F',\n",
    " 'SCH_DISCWDIS_SINGOOS_IDEA_TR_F',\n",
    " 'TOT_DISCWODIS_MULTOOS_F',\n",
    " 'SCH_DISCWODIS_REF_AS_M',\n",
    " 'SCH_DISCWDIS_ARR_IDEA_WH_M',\n",
    " 'SCH_DISCWDIS_SINGOOS_IDEA_BL_F',\n",
    " 'TOT_DISCWDIS_SINGOOS_IDEA_M',\n",
    " 'SCH_APENR_HI_M',\n",
    " 'SCH_DISCWODIS_SINGOOS_WH_F',\n",
    " 'SCH_DISCWDIS_ARR_IDEA_HP_M',\n",
    " 'SCH_IDEAENR_AM_M',\n",
    " 'SCH_APENR_AM_M',\n",
    " 'SCH_GTENR_TR_F',\n",
    " 'TOT_GTENR_F',\n",
    " 'SCH_DISCWODIS_SINGOOS_AM_F',\n",
    " 'SCH_APENR_WH_M',\n",
    " 'SCH_DISCWODIS_REF_AM_M',\n",
    " 'TOT_DISCWODIS_REF_F',\n",
    " 'SCH_IDEAENR_BL_F',\n",
    " 'SCH_DISCWODIS_SINGOOS_AS_M',\n",
    " 'TOT_DISCWDIS_SINGOOS_IDEA_F',\n",
    " 'SCH_DISCWODIS_ARR_HI_M',\n",
    " 'SCH_DISCWDIS_ARR_IDEA_HP_F',\n",
    " 'SCH_DISCWDIS_REF_IDEA_HI_M',\n",
    " 'SCH_ENR_TR_M',\n",
    " 'SCH_GTENR_BL_M',\n",
    " 'SCH_DISCWDIS_SINGOOS_IDEA_AM_M',\n",
    " 'SCH_DISCWODIS_ARR_HI_F',\n",
    " 'SCH_IDEAENR_AS_F',\n",
    " 'SCH_DISCWDIS_ARR_IDEA_HI_F',\n",
    " 'SCH_APENR_HP_F',\n",
    " 'TOT_IDEAENR_M',\n",
    " 'SCH_GTENR_AM_M',\n",
    " 'SCH_ENR_BL_M',\n",
    " 'SCH_DISCWDIS_MULTOOS_IDEA_AS_M',\n",
    " 'SCH_ENR_AM_M',\n",
    " 'SCH_DISCWODIS_MULTOOS_WH_F',\n",
    " 'SCH_ENR_HP_M',\n",
    " 'SCH_IDEAENR_BL_M',\n",
    " 'SCH_IDEAENR_TR_M',\n",
    " 'SCH_APENR_WH_F',\n",
    " 'SCH_DISCWDIS_SINGOOS_IDEA_AS_F',\n",
    " 'SCH_ENR_AM_F',\n",
    " 'SCH_DISCWDIS_REF_IDEA_TR_M',\n",
    " 'SCH_DISCWODIS_REF_AS_F',\n",
    " 'SCH_DISCWDIS_ARR_IDEA_AM_F',\n",
    " 'SCH_ENR_WH_M',\n",
    " 'SCH_DISCWODIS_REF_BL_M',\n",
    " 'SCH_DISCWODIS_MULTOOS_AM_M',\n",
    " 'SCH_DISCWDIS_ARR_IDEA_HI_M',\n",
    " 'SCH_DISCWODIS_REF_HP_F',\n",
    " 'SCH_DISCWDIS_SINGOOS_IDEA_AS_M',\n",
    " 'SCH_DISCWODIS_ARR_AS_M',\n",
    " 'SCH_IDEAENR_WH_M',\n",
    " 'SCH_DISCWDIS_MULTOOS_IDEA_HP_F',\n",
    " 'TOT_DISCWDIS_REF_IDEA_M',\n",
    " 'SCH_FTESECURITY_LEO',\n",
    " 'SCH_DISCWODIS_MULTOOS_TR_M',\n",
    " 'SCH_IDEAENR_HP_F',\n",
    " 'SCH_DISCWODIS_MULTOOS_HI_F',\n",
    " 'SCH_DISCWDIS_ARR_IDEA_WH_F',\n",
    " 'SCH_GTENR_HP_M',\n",
    " 'SCH_DISCWDIS_MULTOOS_IDEA_TR_M',\n",
    " 'SCH_DISCWDIS_ARR_IDEA_AS_F',\n",
    " 'SCH_DISCWODIS_REF_WH_M',\n",
    " 'SCH_DISCWODIS_ARR_BL_M',\n",
    " 'TOT_IDEAENR_F',\n",
    " 'TOT_DISCWDIS_ARR_IDEA_F',\n",
    " 'SCH_DISCWODIS_MULTOOS_AS_F',\n",
    " 'SCH_DISCWDIS_MULTOOS_IDEA_WH_M',\n",
    " 'SCH_APENR_TR_F',\n",
    " 'SCH_ENR_WH_F',\n",
    " 'SCH_DISCWODIS_REF_WH_F',\n",
    " 'SCH_APENR_HP_M',\n",
    " 'SCH_DISCWODIS_MULTOOS_BL_M',\n",
    " 'SCH_GTENR_AM_F',\n",
    " 'TOT_DISCWDIS_MULTOOS_IDEA_F',\n",
    " 'SCH_DISCWDIS_REF_IDEA_HP_M',\n",
    " 'SCH_ENR_HI_F',\n",
    " 'SCH_DISCWDIS_REF_IDEA_HP_F',\n",
    " 'TOT_ENR_M',\n",
    " 'SCH_ENR_AS_F',\n",
    " 'SCH_DISCWDIS_REF_IDEA_AM_F',\n",
    " 'SCH_DISCWODIS_ARR_HP_M',\n",
    " 'SCH_APENR_AS_F',\n",
    " 'TOT_DISCWODIS_ARR_F',\n",
    " 'SCH_ENR_AS_M',\n",
    " 'SCH_GTENR_WH_F',\n",
    " 'SCH_DISCWDIS_SINGOOS_IDEA_HP_F',\n",
    " 'SCH_GTENR_LEP_F',\n",
    " 'SCH_IDEAENR_WH_F',\n",
    " 'SCH_DISCWODIS_SINGOOS_AM_M',\n",
    " 'SCH_DISCWODIS_SINGOOS_WH_M',\n",
    " 'SCH_DISCWDIS_ARR_IDEA_TR_F',\n",
    " 'SCH_ENR_HP_F',\n",
    " 'SCH_DISCWODIS_MULTOOS_HP_M',\n",
    " 'SCH_DISCWDIS_REF_IDEA_TR_F',\n",
    " 'SCH_GTENR_AS_M',\n",
    " 'SCH_DISCWDIS_SINGOOS_IDEA_WH_M',\n",
    " 'TOT_GTENR_M',\n",
    " 'SCH_DISCWODIS_ARR_TR_F',\n",
    " 'SCH_DISCWDIS_SINGOOS_IDEA_HP_M',\n",
    " 'SCH_DISCWODIS_MULTOOS_HP_F',\n",
    " 'SCH_DISCWDIS_ARR_IDEA_BL_M',\n",
    " 'SCH_DISCWDIS_REF_IDEA_AS_F',\n",
    " 'SCH_APENR_BL_M',\n",
    " 'TOT_DISCWDIS_REF_IDEA_F',\n",
    " 'SCH_DISCWDIS_MULTOOS_IDEA_HI_M']"
   ]
  },
  {
   "cell_type": "code",
   "execution_count": null,
   "metadata": {},
   "outputs": [],
   "source": [
    "agg_dict = {k:sum if k not in {'LEA_NAME', 'LEA_STATE_NAME'} else 'first' for k in agg_cols}"
   ]
  },
  {
   "cell_type": "code",
   "execution_count": null,
   "metadata": {},
   "outputs": [],
   "source": [
    "assert(len(agg_dict) == len(agg_cols))"
   ]
  },
  {
   "cell_type": "code",
   "execution_count": null,
   "metadata": {},
   "outputs": [],
   "source": [
    "grouped_by_distyr = district.groupby(['LEAID', 'YEAR'])[agg_cols].agg(agg_dict)\n",
    "grouped_by_distyr = grouped_by_distyr[agg_cols]\n",
    "grouped_by_distyr.reset_index(inplace=True)\n",
    "grouped_by_distyr.sort_values(by=['LEAID', 'YEAR'], inplace=True)"
   ]
  },
  {
   "cell_type": "markdown",
   "metadata": {},
   "source": [
    "Read geodata from file and join to district aggregation."
   ]
  },
  {
   "cell_type": "code",
   "execution_count": null,
   "metadata": {},
   "outputs": [],
   "source": [
    "sch_geo_1516 = pd.read_excel('/Users/cave/Desktop/pleiades_archive/discriminology/Geocoded Schools:Districts/2015:16/Schools_EDGE_GEOCODE_PUBLICSCH_1516.xlsx', dtype={'NCESSCH': str})\n",
    "dist_geo_1516 = pd.read_excel('/Users/cave/Desktop/pleiades_archive/discriminology/Geocoded Schools:Districts/2015:16/Districts_EDGE_GEOCODE_PUBLICLEA_1516.xlsx', dtype={'LEAID': str})\n"
   ]
  },
  {
   "cell_type": "code",
   "execution_count": null,
   "metadata": {},
   "outputs": [],
   "source": [
    "sch_geo_1516['NCESSCH'] = sch_geo_1516['NCESSCH'].str.zfill(12)\n",
    "dist_geo_1516['LEAID'] = dist_geo_1516['LEAID'].str.zfill(7)\n",
    "sch_geo_1516.NCESSCH.nunique()"
   ]
  },
  {
   "cell_type": "code",
   "execution_count": null,
   "metadata": {},
   "outputs": [],
   "source": [
    "sch_geo_1819 = pd.read_excel('/Users/cave/Desktop/pleiades_archive/discriminology/Geocoded Schools:Districts/2018:19/Schools_EDGE_GEOCODE_PUBLICSCH_1819.xlsx', dtype={'NCESSCH': str})\n",
    "dist_geo_1819 = pd.read_excel('/Users/cave/Desktop/pleiades_archive/discriminology/Geocoded Schools:Districts/2018:19/Districts_EDGE_GEOCODE_PUBLICLEA_1819.xlsx', dtype={'LEAID': str})"
   ]
  },
  {
   "cell_type": "code",
   "execution_count": null,
   "metadata": {},
   "outputs": [],
   "source": [
    "sch_geo_1819['NCESSCH'] = sch_geo_1819['NCESSCH'].str.zfill(12)\n",
    "dist_geo_1819['LEAID'] = dist_geo_1819['LEAID'].str.zfill(7)\n",
    "sch_geo_1819.NCESSCH.nunique()"
   ]
  },
  {
   "cell_type": "code",
   "execution_count": null,
   "metadata": {},
   "outputs": [],
   "source": [
    "geo_data = pd.read_excel('/Users/cave/Desktop/pleiades_archive/discriminology/LEA Profile Info.xlsx', dtype={'LEAID': str})\n",
    "geo_data['LEAID'] = geo_data['LEAID'].str.zfill(7)"
   ]
  },
  {
   "cell_type": "code",
   "execution_count": null,
   "metadata": {},
   "outputs": [],
   "source": [
    "len(geo_data)"
   ]
  },
  {
   "cell_type": "code",
   "execution_count": null,
   "metadata": {},
   "outputs": [],
   "source": [
    "len(set(grouped_by_distyr['LEAID'].values))"
   ]
  },
  {
   "cell_type": "code",
   "execution_count": null,
   "metadata": {},
   "outputs": [],
   "source": [
    "len(set(geo_data['LEAID'].values).intersection(set(grouped_by_distyr['LEAID'].values)))"
   ]
  },
  {
   "cell_type": "code",
   "execution_count": null,
   "metadata": {},
   "outputs": [],
   "source": [
    "district_geo = geo_data[['LEAID', 'LEA_ADDRESS', 'LEA_CITY', 'LEA_ZIP',\n",
    "       'CJJ', 'LEA_ENR', 'LEA_SCHOOLS', 'Latitude', 'Longitude']]"
   ]
  },
  {
   "cell_type": "code",
   "execution_count": null,
   "metadata": {},
   "outputs": [],
   "source": [
    "district_geo.head()"
   ]
  },
  {
   "cell_type": "code",
   "execution_count": null,
   "metadata": {},
   "outputs": [],
   "source": [
    "district_group_w_geo = pd.merge(grouped_by_distyr, district_geo, left_on='LEAID', right_on='LEAID', how='left')"
   ]
  },
  {
   "cell_type": "code",
   "execution_count": null,
   "metadata": {},
   "outputs": [],
   "source": [
    "district_group_w_geo.head()"
   ]
  },
  {
   "cell_type": "code",
   "execution_count": null,
   "metadata": {},
   "outputs": [],
   "source": [
    "text_cols = ['LEAID', 'LEA_NAME', \"YEAR\", \"LEA_STATE\", \"LEA_STATE_NAME\",\n",
    "    \"LEAID\", \"LEA_NAME\", 'LEA_ADDRESS', 'LEA_CITY', 'CJJ',\n",
    "    ]"
   ]
  },
  {
   "cell_type": "code",
   "execution_count": null,
   "metadata": {},
   "outputs": [],
   "source": [
    "district_create = [print(f'\"{k}\" double precision,') if k not in text_cols else print(f'\"{k}\" text,') for k in district_group_w_geo.columns]"
   ]
  },
  {
   "cell_type": "code",
   "execution_count": null,
   "metadata": {},
   "outputs": [],
   "source": [
    "dist_type_map = {k:v for k,v in type_map.items() if k in district_group_w_geo.columns}"
   ]
  },
  {
   "cell_type": "code",
   "execution_count": null,
   "metadata": {},
   "outputs": [],
   "source": [
    "district_group_w_geo = district_group_w_geo.astype(dist_type_map)"
   ]
  },
  {
   "cell_type": "code",
   "execution_count": null,
   "metadata": {},
   "outputs": [],
   "source": [
    "df = pd.read_csv('/Users/cave/Desktop/pleiades_archive/discriminology/output/db_upload_districts.csv')"
   ]
  },
  {
   "cell_type": "code",
   "execution_count": null,
   "metadata": {},
   "outputs": [],
   "source": [
    "df.shape"
   ]
  },
  {
   "cell_type": "code",
   "execution_count": null,
   "metadata": {},
   "outputs": [],
   "source": [
    "district_group_w_geo.to_csv('/Users/cave/Desktop/pleiades_archive/discriminology/output/db_upload_districts.csv', index=False)"
   ]
  },
  {
   "cell_type": "markdown",
   "metadata": {},
   "source": [
    "### Code Sandbox - everything below only needs to be run once"
   ]
  },
  {
   "cell_type": "code",
   "execution_count": null,
   "metadata": {
    "scrolled": true
   },
   "outputs": [],
   "source": [
    "# descriptions = pd.concat(desc_frames_1112, axis=0)\n",
    "# descriptions.drop_duplicates(inplace=True)\n",
    "# descriptions.set_index('Field Name', inplace=True)\n",
    "# descriptions = descriptions.loc[fields_1112]\n",
    "# descriptions.columns = ['2011_12_description']\n",
    "# descriptions.reset_index().to_csv('/Users/cave/Desktop/2011_12_field_descriptions.csv')\n",
    "\n",
    "# descriptions = pd.concat(desc_frames_1314, axis=0)\n",
    "# descriptions.drop_duplicates(inplace=True)\n",
    "# descriptions.set_index('Field Name', inplace=True)\n",
    "# descriptions = descriptions.loc[fields_1314]\n",
    "# descriptions.columns = ['2013_14_description']\n",
    "# descriptions.reset_index().to_csv('/Users/cave/Desktop/2013_14_field_descriptions.csv')"
   ]
  }
 ],
 "metadata": {
  "kernelspec": {
   "display_name": "Python 3",
   "language": "python",
   "name": "python3"
  },
  "language_info": {
   "codemirror_mode": {
    "name": "ipython",
    "version": 3
   },
   "file_extension": ".py",
   "mimetype": "text/x-python",
   "name": "python",
   "nbconvert_exporter": "python",
   "pygments_lexer": "ipython3",
   "version": "3.7.2"
  }
 },
 "nbformat": 4,
 "nbformat_minor": 2
}
